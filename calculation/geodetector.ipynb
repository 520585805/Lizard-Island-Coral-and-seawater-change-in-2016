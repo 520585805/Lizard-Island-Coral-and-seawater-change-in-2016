{
 "cells": [
  {
   "cell_type": "code",
   "execution_count": 1,
   "id": "69309f0d",
   "metadata": {},
   "outputs": [],
   "source": [
    "#geodetector, but it is not perfect\n",
    "\n",
    "#SSW和SST 分别为层内方差之和（Within Sum of Squares） 和全区总方差（Total Sum of Squares）\n",
    "def geodetector(vari_x, vari_y):     #vari_x means independent variable, vari_y means dependent variable\n",
    "    import numpy as np\n",
    "    SST = np.var (vari_y)\n",
    "    SSW = np.sum (vari_x)\n",
    "    q = 1-SSW/SST\n",
    "    if q > 1:\n",
    "        print(\"Please check your data\")\n",
    "        return q\n",
    "       \n",
    "    if q >= 0.6 and q <= 1:\n",
    "        print(\"the the layout of former factor decided by the latter factors\")\n",
    "        return q\n",
    "    if q >= 0.3 and q < 0.6:\n",
    "        print(\"the the layout of former factor slightly decided by the latter factors\")\n",
    "        return q\n",
    "    if q < 0.3 and q >= 0:\n",
    "        print(\"there are no significant relationship between these two factors\")\n",
    "        return q\n",
    "    if q <  0:\n",
    "        print(\"there is absolutely no relationship between them, but it is better to check your data input\")\n",
    "        return q\n",
    "\n"
   ]
  },
  {
   "cell_type": "code",
   "execution_count": 2,
   "id": "392b9b93",
   "metadata": {},
   "outputs": [],
   "source": [
    "import pandas as pd\n",
    "import numpy as np\n",
    "\n",
    "ex = pd.read_csv('Example of salinity and bleaching.csv')\n",
    "#EX = np.array(ex)\n",
    "#EX"
   ]
  },
  {
   "cell_type": "code",
   "execution_count": 3,
   "id": "cf2d09cb",
   "metadata": {},
   "outputs": [
    {
     "data": {
      "text/html": [
       "<div>\n",
       "<style scoped>\n",
       "    .dataframe tbody tr th:only-of-type {\n",
       "        vertical-align: middle;\n",
       "    }\n",
       "\n",
       "    .dataframe tbody tr th {\n",
       "        vertical-align: top;\n",
       "    }\n",
       "\n",
       "    .dataframe thead th {\n",
       "        text-align: right;\n",
       "    }\n",
       "</style>\n",
       "<table border=\"1\" class=\"dataframe\">\n",
       "  <thead>\n",
       "    <tr style=\"text-align: right;\">\n",
       "      <th></th>\n",
       "      <th>SalinityCategory</th>\n",
       "      <th>Bleaching_Rate</th>\n",
       "    </tr>\n",
       "  </thead>\n",
       "  <tbody>\n",
       "    <tr>\n",
       "      <th>0</th>\n",
       "      <td>1</td>\n",
       "      <td>32</td>\n",
       "    </tr>\n",
       "    <tr>\n",
       "      <th>1</th>\n",
       "      <td>2</td>\n",
       "      <td>59</td>\n",
       "    </tr>\n",
       "    <tr>\n",
       "      <th>2</th>\n",
       "      <td>4</td>\n",
       "      <td>66</td>\n",
       "    </tr>\n",
       "    <tr>\n",
       "      <th>3</th>\n",
       "      <td>4</td>\n",
       "      <td>8</td>\n",
       "    </tr>\n",
       "    <tr>\n",
       "      <th>4</th>\n",
       "      <td>2</td>\n",
       "      <td>55</td>\n",
       "    </tr>\n",
       "    <tr>\n",
       "      <th>5</th>\n",
       "      <td>3</td>\n",
       "      <td>36</td>\n",
       "    </tr>\n",
       "    <tr>\n",
       "      <th>6</th>\n",
       "      <td>3</td>\n",
       "      <td>84</td>\n",
       "    </tr>\n",
       "    <tr>\n",
       "      <th>7</th>\n",
       "      <td>1</td>\n",
       "      <td>22</td>\n",
       "    </tr>\n",
       "    <tr>\n",
       "      <th>8</th>\n",
       "      <td>4</td>\n",
       "      <td>95</td>\n",
       "    </tr>\n",
       "    <tr>\n",
       "      <th>9</th>\n",
       "      <td>2</td>\n",
       "      <td>66</td>\n",
       "    </tr>\n",
       "    <tr>\n",
       "      <th>10</th>\n",
       "      <td>1</td>\n",
       "      <td>57</td>\n",
       "    </tr>\n",
       "    <tr>\n",
       "      <th>11</th>\n",
       "      <td>3</td>\n",
       "      <td>18</td>\n",
       "    </tr>\n",
       "    <tr>\n",
       "      <th>12</th>\n",
       "      <td>2</td>\n",
       "      <td>59</td>\n",
       "    </tr>\n",
       "    <tr>\n",
       "      <th>13</th>\n",
       "      <td>2</td>\n",
       "      <td>92</td>\n",
       "    </tr>\n",
       "    <tr>\n",
       "      <th>14</th>\n",
       "      <td>4</td>\n",
       "      <td>14</td>\n",
       "    </tr>\n",
       "    <tr>\n",
       "      <th>15</th>\n",
       "      <td>3</td>\n",
       "      <td>33</td>\n",
       "    </tr>\n",
       "    <tr>\n",
       "      <th>16</th>\n",
       "      <td>1</td>\n",
       "      <td>63</td>\n",
       "    </tr>\n",
       "  </tbody>\n",
       "</table>\n",
       "</div>"
      ],
      "text/plain": [
       "    SalinityCategory  Bleaching_Rate\n",
       "0                  1              32\n",
       "1                  2              59\n",
       "2                  4              66\n",
       "3                  4               8\n",
       "4                  2              55\n",
       "5                  3              36\n",
       "6                  3              84\n",
       "7                  1              22\n",
       "8                  4              95\n",
       "9                  2              66\n",
       "10                 1              57\n",
       "11                 3              18\n",
       "12                 2              59\n",
       "13                 2              92\n",
       "14                 4              14\n",
       "15                 3              33\n",
       "16                 1              63"
      ]
     },
     "execution_count": 3,
     "metadata": {},
     "output_type": "execute_result"
    }
   ],
   "source": [
    "ex"
   ]
  },
  {
   "cell_type": "code",
   "execution_count": 4,
   "id": "260c577c",
   "metadata": {},
   "outputs": [
    {
     "data": {
      "text/plain": [
       "<AxesSubplot:xlabel='SalinityCategory'>"
      ]
     },
     "execution_count": 4,
     "metadata": {},
     "output_type": "execute_result"
    }
   ],
   "source": [
    "ex.groupby('SalinityCategory').Bleaching_Rate.count().nlargest(20).plot(kind='bar', figsize=(12,6))"
   ]
  },
  {
   "cell_type": "code",
   "execution_count": 5,
   "id": "d305bce4",
   "metadata": {},
   "outputs": [
    {
     "data": {
      "text/plain": [
       "<AxesSubplot:xlabel='SalinityCategory'>"
      ]
     },
     "execution_count": 5,
     "metadata": {},
     "output_type": "execute_result"
    }
   ],
   "source": [
    "ex.groupby('SalinityCategory').Bleaching_Rate.mean().nlargest(20).plot(kind='bar', figsize=(12,6))"
   ]
  },
  {
   "cell_type": "code",
   "execution_count": 41,
   "id": "2aaa1b66",
   "metadata": {},
   "outputs": [],
   "source": [
    "#np.var (ex.Bleaching_Rate)"
   ]
  },
  {
   "cell_type": "code",
   "execution_count": 42,
   "id": "eeb73029",
   "metadata": {},
   "outputs": [],
   "source": [
    "#ex.groupby(ex.SalinityCategory)"
   ]
  },
  {
   "cell_type": "code",
   "execution_count": 6,
   "id": "ba40ab36",
   "metadata": {},
   "outputs": [],
   "source": [
    "gb = ex.groupby('SalinityCategory')"
   ]
  },
  {
   "cell_type": "code",
   "execution_count": 7,
   "id": "c3f195e1",
   "metadata": {},
   "outputs": [
    {
     "data": {
      "text/plain": [
       "4"
      ]
     },
     "execution_count": 7,
     "metadata": {},
     "output_type": "execute_result"
    }
   ],
   "source": [
    "len(gb)"
   ]
  },
  {
   "cell_type": "code",
   "execution_count": 8,
   "id": "0943383c",
   "metadata": {},
   "outputs": [
    {
     "data": {
      "text/plain": [
       "[1, 2, 3, 4]"
      ]
     },
     "execution_count": 8,
     "metadata": {},
     "output_type": "execute_result"
    }
   ],
   "source": [
    "groups = gb.groups\n",
    "list(groups.keys())"
   ]
  },
  {
   "cell_type": "code",
   "execution_count": 46,
   "id": "5f156149",
   "metadata": {},
   "outputs": [],
   "source": [
    "#gb.get_group('3').head()"
   ]
  },
  {
   "cell_type": "code",
   "execution_count": 9,
   "id": "4121dd47",
   "metadata": {},
   "outputs": [
    {
     "data": {
      "text/plain": [
       "SalinityCategory\n",
       "1     385.666667\n",
       "2     223.700000\n",
       "3     818.250000\n",
       "4    1756.250000\n",
       "Name: Bleaching_Rate, dtype: float64"
      ]
     },
     "execution_count": 9,
     "metadata": {},
     "output_type": "execute_result"
    }
   ],
   "source": [
    "gb.Bleaching_Rate.var()"
   ]
  },
  {
   "cell_type": "code",
   "execution_count": 10,
   "id": "8fea5e22",
   "metadata": {},
   "outputs": [
    {
     "data": {
      "text/plain": [
       "0     32\n",
       "1     59\n",
       "2     66\n",
       "3      8\n",
       "4     55\n",
       "5     36\n",
       "6     84\n",
       "7     22\n",
       "8     95\n",
       "9     66\n",
       "10    57\n",
       "11    18\n",
       "12    59\n",
       "13    92\n",
       "14    14\n",
       "15    33\n",
       "16    63\n",
       "Name: Bleaching_Rate, dtype: int64"
      ]
     },
     "execution_count": 10,
     "metadata": {},
     "output_type": "execute_result"
    }
   ],
   "source": [
    "ex.Bleaching_Rate"
   ]
  },
  {
   "cell_type": "code",
   "execution_count": 11,
   "id": "f43e4cb0",
   "metadata": {},
   "outputs": [],
   "source": [
    "a = gb.Bleaching_Rate.var()\n",
    "b = ex.Bleaching_Rate"
   ]
  },
  {
   "cell_type": "code",
   "execution_count": 12,
   "id": "46f2bf9c",
   "metadata": {},
   "outputs": [
    {
     "name": "stdout",
     "output_type": "stream",
     "text": [
      "there is absolutely no relationship between them, but it is better to check your data input\n"
     ]
    },
    {
     "data": {
      "text/plain": [
       "-3.692615674394726"
      ]
     },
     "execution_count": 12,
     "metadata": {},
     "output_type": "execute_result"
    }
   ],
   "source": [
    "geodetector (a, b)"
   ]
  },
  {
   "cell_type": "code",
   "execution_count": null,
   "id": "91556db0",
   "metadata": {},
   "outputs": [],
   "source": []
  },
  {
   "cell_type": "code",
   "execution_count": null,
   "id": "158f5240",
   "metadata": {},
   "outputs": [],
   "source": []
  },
  {
   "cell_type": "code",
   "execution_count": null,
   "id": "fcbeb2a5",
   "metadata": {},
   "outputs": [],
   "source": []
  },
  {
   "cell_type": "code",
   "execution_count": null,
   "id": "93f4875a",
   "metadata": {},
   "outputs": [],
   "source": []
  },
  {
   "cell_type": "code",
   "execution_count": null,
   "id": "d6d13e96",
   "metadata": {},
   "outputs": [],
   "source": []
  },
  {
   "cell_type": "markdown",
   "id": "d0903e4f",
   "metadata": {},
   "source": [
    "\n",
    "There are failed tryings below. The purpose to keep them is to remain some useful information may contained in them\n"
   ]
  },
  {
   "cell_type": "code",
   "execution_count": 16,
   "id": "b0d89beb",
   "metadata": {},
   "outputs": [],
   "source": [
    "example1 = np.array([[82,1],\n",
    "                    [76,2],\n",
    "                    [33,3],\n",
    "                    [21,2],\n",
    "                    [63,1],\n",
    "                    [42,3],\n",
    "                    [29,2],\n",
    "                    [77,2]])"
   ]
  },
  {
   "cell_type": "code",
   "execution_count": 17,
   "id": "a56768fa",
   "metadata": {},
   "outputs": [
    {
     "data": {
      "text/plain": [
       "(8, 2)"
      ]
     },
     "execution_count": 17,
     "metadata": {},
     "output_type": "execute_result"
    }
   ],
   "source": [
    "example1.shape"
   ]
  },
  {
   "cell_type": "code",
   "execution_count": 18,
   "id": "d578bb2a",
   "metadata": {},
   "outputs": [
    {
     "ename": "NameError",
     "evalue": "name 'EX' is not defined",
     "output_type": "error",
     "traceback": [
      "\u001b[0;31m---------------------------------------------------------------------------\u001b[0m",
      "\u001b[0;31mNameError\u001b[0m                                 Traceback (most recent call last)",
      "Cell \u001b[0;32mIn [18], line 1\u001b[0m\n\u001b[0;32m----> 1\u001b[0m geodetector(EX[\u001b[38;5;124m'\u001b[39m\u001b[38;5;124mSalinityCategory\u001b[39m\u001b[38;5;124m'\u001b[39m], EX[\u001b[38;5;124m'\u001b[39m\u001b[38;5;124mBleaching_rate\u001b[39m\u001b[38;5;124m'\u001b[39m])\n",
      "\u001b[0;31mNameError\u001b[0m: name 'EX' is not defined"
     ]
    }
   ],
   "source": [
    "geodetector(EX['SalinityCategory'], EX['Bleaching_rate'])"
   ]
  },
  {
   "cell_type": "code",
   "execution_count": null,
   "id": "bff52f23",
   "metadata": {},
   "outputs": [],
   "source": [
    "\n",
    "data=[]\n",
    "for item in EX:\n",
    "    sh = item[0]\n",
    "    if 4 == sh:\n",
    "        print (item)\n",
    "        data.append (item)"
   ]
  },
  {
   "cell_type": "code",
   "execution_count": null,
   "id": "e62ede8b",
   "metadata": {},
   "outputs": [],
   "source": [
    "data['Bleaching_rate']"
   ]
  }
 ],
 "metadata": {
  "kernelspec": {
   "display_name": "Python 3 (ipykernel)",
   "language": "python",
   "name": "python3"
  },
  "language_info": {
   "codemirror_mode": {
    "name": "ipython",
    "version": 3
   },
   "file_extension": ".py",
   "mimetype": "text/x-python",
   "name": "python",
   "nbconvert_exporter": "python",
   "pygments_lexer": "ipython3",
   "version": "3.10.8"
  }
 },
 "nbformat": 4,
 "nbformat_minor": 5
}
