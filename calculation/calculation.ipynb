{
 "cells": [
  {
   "cell_type": "code",
   "execution_count": 3,
   "id": "c15fcebd",
   "metadata": {},
   "outputs": [
    {
     "ename": "ERROR",
     "evalue": "Error in library(geodetector): there is no package called ‘geodetector’\n",
     "output_type": "error",
     "traceback": [
      "Error in library(geodetector): there is no package called ‘geodetector’\nTraceback:\n",
      "1. library(geodetector)"
     ]
    }
   ],
   "source": [
    "#geodetector\n",
    "library (geodetector)\n",
    "#install.packages (\"geodetector\")\n",
    "\n",
    "\n"
   ]
  }
 ],
 "metadata": {
  "kernelspec": {
   "display_name": "R",
   "language": "R",
   "name": "ir"
  },
  "language_info": {
   "codemirror_mode": "r",
   "file_extension": ".r",
   "mimetype": "text/x-r-source",
   "name": "R",
   "pygments_lexer": "r",
   "version": "4.2.1"
  }
 },
 "nbformat": 4,
 "nbformat_minor": 5
}
