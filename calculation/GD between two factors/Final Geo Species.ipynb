{
 "cells": [
  {
   "cell_type": "code",
   "execution_count": 1,
   "id": "6732a086",
   "metadata": {},
   "outputs": [],
   "source": [
    "import os                                                                                                \n",
    "import pandas as pd\n",
    "import numpy as np                                                                                       \n",
    "import datetime as dt                                                                                    \n",
    "import xarray as xr                                                                                      "
   ]
  },
  {
   "cell_type": "code",
   "execution_count": 2,
   "id": "6b086b56",
   "metadata": {},
   "outputs": [],
   "source": [
    "def geodetector(vari_x, vari_y):     #vari_x means independent variable, vari_y means dependent variable\n",
    "    import numpy as np\n",
    "    SST = np.var (vari_y)\n",
    "    SSW = np.sum (vari_x)\n",
    "    q = 1-(SSW/SST)\n",
    "    if q > 1:\n",
    "        print(\"Please check your data\")\n",
    "        return q\n",
    "       \n",
    "    if q >= 0.6 and q <= 1:\n",
    "        print(\"the the layout of former factor decided by the latter factors\")\n",
    "        return q\n",
    "    if q >= 0.3 and q < 0.6:\n",
    "        print(\"the the layout of former factor slightly decided by the latter factors\")\n",
    "        return q\n",
    "    if q < 0.3 and q >= 0:\n",
    "        print(\"there are no significant relationship between these two factors\")\n",
    "        return q\n",
    "    if q <  0:\n",
    "        print(\"there is absolutely no relationship between them, but it is better to check your data input\")\n",
    "        return q"
   ]
  },
  {
   "cell_type": "code",
   "execution_count": 3,
   "id": "7a6ee720",
   "metadata": {},
   "outputs": [],
   "source": [
    "bc = pd.read_csv('superspeciesgeo.csv')"
   ]
  },
  {
   "cell_type": "code",
   "execution_count": 4,
   "id": "6a4a32aa",
   "metadata": {},
   "outputs": [
    {
     "name": "stdout",
     "output_type": "stream",
     "text": [
      "there is absolutely no relationship between them, but it is better to check your data input\n"
     ]
    },
    {
     "data": {
      "text/plain": [
       "-1.98238747553816"
      ]
     },
     "execution_count": 4,
     "metadata": {},
     "output_type": "execute_result"
    }
   ],
   "source": [
    "gb = bc.groupby('pH_category')    #The determine factor\n",
    "a = gb.change2.var()    #The impacted factor\n",
    "b = bc.change2\n",
    "geodetector (a, b)"
   ]
  },
  {
   "cell_type": "code",
   "execution_count": 5,
   "id": "dbc41155",
   "metadata": {},
   "outputs": [
    {
     "name": "stdout",
     "output_type": "stream",
     "text": [
      "there is absolutely no relationship between them, but it is better to check your data input\n"
     ]
    },
    {
     "data": {
      "text/plain": [
       "-1.98238747553816"
      ]
     },
     "execution_count": 5,
     "metadata": {},
     "output_type": "execute_result"
    }
   ],
   "source": [
    "gb = bc.groupby('temp_category')    #The determine factor\n",
    "a = gb.change2.var()    #The impacted factor\n",
    "b = bc.change2\n",
    "geodetector (a, b)"
   ]
  },
  {
   "cell_type": "code",
   "execution_count": 6,
   "id": "16793d57",
   "metadata": {},
   "outputs": [
    {
     "name": "stdout",
     "output_type": "stream",
     "text": [
      "there is absolutely no relationship between them, but it is better to check your data input\n"
     ]
    },
    {
     "data": {
      "text/plain": [
       "-1.98238747553816"
      ]
     },
     "execution_count": 6,
     "metadata": {},
     "output_type": "execute_result"
    }
   ],
   "source": [
    "gb = bc.groupby('salt_category')    #The determine factor\n",
    "a = gb.change2.var()    #The impacted factor\n",
    "b = bc.change2\n",
    "geodetector (a, b)"
   ]
  },
  {
   "cell_type": "code",
   "execution_count": 7,
   "id": "f54c25fe",
   "metadata": {},
   "outputs": [
    {
     "data": {
      "text/plain": [
       "51.1"
      ]
     },
     "execution_count": 7,
     "metadata": {},
     "output_type": "execute_result"
    }
   ],
   "source": [
    "b.var()"
   ]
  },
  {
   "cell_type": "code",
   "execution_count": 8,
   "id": "9e8c7e98",
   "metadata": {},
   "outputs": [
    {
     "name": "stdout",
     "output_type": "stream",
     "text": [
      "there is absolutely no relationship between them, but it is better to check your data input\n"
     ]
    },
    {
     "data": {
      "text/plain": [
       "-1.98238747553816"
      ]
     },
     "execution_count": 8,
     "metadata": {},
     "output_type": "execute_result"
    }
   ],
   "source": [
    "gb = bc.groupby('salttemp')    #The determine factor\n",
    "a = gb.change2.var()    #The impacted factor\n",
    "b = bc.change2\n",
    "geodetector (a, b)"
   ]
  },
  {
   "cell_type": "code",
   "execution_count": 9,
   "id": "c2bac20c",
   "metadata": {},
   "outputs": [
    {
     "name": "stdout",
     "output_type": "stream",
     "text": [
      "there is absolutely no relationship between them, but it is better to check your data input\n"
     ]
    },
    {
     "data": {
      "text/plain": [
       "-1.98238747553816"
      ]
     },
     "execution_count": 9,
     "metadata": {},
     "output_type": "execute_result"
    }
   ],
   "source": [
    "gb = bc.groupby('saltph')    #The determine factor\n",
    "a = gb.change2.var()    #The impacted factor\n",
    "b = bc.change2\n",
    "geodetector (a, b)"
   ]
  },
  {
   "cell_type": "code",
   "execution_count": 10,
   "id": "9870b83b",
   "metadata": {},
   "outputs": [
    {
     "name": "stdout",
     "output_type": "stream",
     "text": [
      "there is absolutely no relationship between them, but it is better to check your data input\n"
     ]
    },
    {
     "data": {
      "text/plain": [
       "-1.98238747553816"
      ]
     },
     "execution_count": 10,
     "metadata": {},
     "output_type": "execute_result"
    }
   ],
   "source": [
    "gb = bc.groupby('tempph')    #The determine factor\n",
    "a = gb.change2.var()    #The impacted factor\n",
    "b = bc.change2\n",
    "geodetector (a, b)"
   ]
  },
  {
   "cell_type": "code",
   "execution_count": 12,
   "id": "601bba69",
   "metadata": {},
   "outputs": [
    {
     "name": "stdout",
     "output_type": "stream",
     "text": [
      "there is absolutely no relationship between them, but it is better to check your data input\n"
     ]
    },
    {
     "data": {
      "text/plain": [
       "-1.9762940545796277"
      ]
     },
     "execution_count": 12,
     "metadata": {},
     "output_type": "execute_result"
    }
   ],
   "source": [
    "gb = bc.groupby('all')    #The determine factor\n",
    "a = gb.change.var()    #The impacted factor\n",
    "b = bc.change\n",
    "geodetector (a, b)"
   ]
  },
  {
   "cell_type": "code",
   "execution_count": null,
   "id": "267a6e58",
   "metadata": {},
   "outputs": [],
   "source": []
  },
  {
   "cell_type": "code",
   "execution_count": null,
   "id": "717f4bc8",
   "metadata": {},
   "outputs": [],
   "source": []
  },
  {
   "cell_type": "code",
   "execution_count": null,
   "id": "5615b2cc",
   "metadata": {},
   "outputs": [],
   "source": []
  }
 ],
 "metadata": {
  "kernelspec": {
   "display_name": "Python 3 (ipykernel)",
   "language": "python",
   "name": "python3"
  },
  "language_info": {
   "codemirror_mode": {
    "name": "ipython",
    "version": 3
   },
   "file_extension": ".py",
   "mimetype": "text/x-python",
   "name": "python",
   "nbconvert_exporter": "python",
   "pygments_lexer": "ipython3",
   "version": "3.10.8"
  }
 },
 "nbformat": 4,
 "nbformat_minor": 5
}
