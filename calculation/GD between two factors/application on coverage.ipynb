{
 "cells": [
  {
   "cell_type": "code",
   "execution_count": 1,
   "id": "1d6a2681",
   "metadata": {},
   "outputs": [
    {
     "name": "stderr",
     "output_type": "stream",
     "text": [
      "/usr/lib/gdalplugins/ogr_Parquet.so: undefined symbol: _ZNK5arrow8DataType18ComputeFingerprintB5cxx11Ev\n",
      "/usr/lib/gdalplugins/ogr_Parquet.so: undefined symbol: _ZNK5arrow8DataType18ComputeFingerprintB5cxx11Ev\n",
      "libpodofo.so.0.9.8: cannot open shared object file: No such file or directory\n",
      "libpodofo.so.0.9.8: cannot open shared object file: No such file or directory\n",
      "/usr/lib/gdalplugins/ogr_Arrow.so: undefined symbol: _ZNK5arrow8DataType18ComputeFingerprintB5cxx11Ev\n",
      "/usr/lib/gdalplugins/ogr_Arrow.so: undefined symbol: _ZNK5arrow8DataType18ComputeFingerprintB5cxx11Ev\n",
      "/usr/lib/gdalplugins/ogr_Parquet.so: undefined symbol: _ZNK5arrow8DataType18ComputeFingerprintB5cxx11Ev\n",
      "/usr/lib/gdalplugins/ogr_Parquet.so: undefined symbol: _ZNK5arrow8DataType18ComputeFingerprintB5cxx11Ev\n",
      "libpodofo.so.0.9.8: cannot open shared object file: No such file or directory\n",
      "libpodofo.so.0.9.8: cannot open shared object file: No such file or directory\n",
      "/usr/lib/gdalplugins/ogr_Arrow.so: undefined symbol: _ZNK5arrow8DataType18ComputeFingerprintB5cxx11Ev\n",
      "/usr/lib/gdalplugins/ogr_Arrow.so: undefined symbol: _ZNK5arrow8DataType18ComputeFingerprintB5cxx11Ev\n"
     ]
    }
   ],
   "source": [
    "import os                                                                                                #整理模块\n",
    "import pandas as pd\n",
    "import numpy as np                                                                                       #向量化数组模块，加快运算\n",
    "import datetime as dt                                                                                    #顾名思义，时间模块\n",
    "import xarray as xr                                                                                      #三维数据组\n",
    "import netCDF4                                                                                           #针对气象数据的数据格式\n",
    "from netCDF4 import Dataset, num2date\n",
    "import cartopy                                                                                           #地理绘图软件\n",
    "import cartopy.crs as ccrs                                                                               #坐标参考系统\n",
    "import cartopy.feature as cfeature                                                                       #地理特征\n",
    "from cartopy.mpl.gridliner import LONGITUDE_FORMATTER, LATITUDE_FORMATTER                                #经纬度\n",
    "cartopy.config['data_dir'] = os.getenv('CARTOPY_DIR', cartopy.config.get('data_dir'))\n",
    "import cmocean                                                                                            #色条\n",
    "from matplotlib import pyplot as plt\n",
    "# %config InlineBackend.figure_format = 'svg'\n",
    "%matplotlib inline"
   ]
  },
  {
   "cell_type": "code",
   "execution_count": 2,
   "id": "0ce262a2",
   "metadata": {},
   "outputs": [],
   "source": [
    "def geodetector(vari_x, vari_y):     \n",
    "    import numpy as np\n",
    "    SST = np.var (vari_y)\n",
    "    SSW = np.sum (vari_x)\n",
    "    q = 1-SSW/SST\n",
    "    if q > 1:\n",
    "        print(\"Please check your data\")\n",
    "        return q\n",
    "       \n",
    "    if q >= 0.6 and q <= 1:\n",
    "        print(\"the the layout of former factor decided by the latter factors\")\n",
    "        return q\n",
    "    if q >= 0.3 and q < 0.6:\n",
    "        print(\"the the layout of former factor slightly decided by the latter factors\")\n",
    "        return q\n",
    "    if q < 0.3 and q >= 0:\n",
    "        print(\"there are no significant relationship between these two factors\")\n",
    "        return q\n",
    "    if q <  0:\n",
    "        print(\"there is absolutely no relationship between them, but it is better to check your data input\")\n",
    "        return q\n",
    "\n"
   ]
  },
  {
   "cell_type": "code",
   "execution_count": 3,
   "id": "046b6555",
   "metadata": {},
   "outputs": [],
   "source": [
    "def find_nearest(array, value):\n",
    "    '''\n",
    "    Find index of nearest value in a numpy array\n",
    "    '''\n",
    "    \n",
    "    array = np.asarray(array)\n",
    "    idx = (np.absolute(array - value)).argmin()\n",
    "    \n",
    "    return idx"
   ]
  },
  {
   "cell_type": "markdown",
   "id": "7bbea09c",
   "metadata": {},
   "source": [
    "4.coral coverage and pH"
   ]
  },
  {
   "cell_type": "code",
   "execution_count": 4,
   "id": "eca8264a",
   "metadata": {},
   "outputs": [],
   "source": [
    "for item in range(6):\n",
    "    year = \"201\" + str(item+1)\n",
    "    locals()['PH' + str(item+1)] = xr.open_dataset('phchange03'+ year +'.nc')"
   ]
  },
  {
   "cell_type": "code",
   "execution_count": 5,
   "id": "df226dec",
   "metadata": {},
   "outputs": [],
   "source": [
    "selectedVariable = 'PH' \n",
    "selectedTimeIndex = 0       \n",
    "selectedDepthIndex = -1     "
   ]
  },
  {
   "cell_type": "code",
   "execution_count": 6,
   "id": "0dc2b8e4",
   "metadata": {},
   "outputs": [],
   "source": [
    "phmeanmarch = (PH1[selectedVariable][selectedTimeIndex, selectedDepthIndex, :,:]\n",
    "                +PH2[selectedVariable][selectedTimeIndex, selectedDepthIndex, :,:]\n",
    "                +PH3[selectedVariable][selectedTimeIndex, selectedDepthIndex, :,:]\n",
    "                +PH4[selectedVariable][selectedTimeIndex, selectedDepthIndex, :,:]\n",
    "                +PH5[selectedVariable][selectedTimeIndex, selectedDepthIndex, :,:]\n",
    "                +PH6[selectedVariable][selectedTimeIndex, selectedDepthIndex, :,:])/6"
   ]
  },
  {
   "cell_type": "code",
   "execution_count": 7,
   "id": "d1911a7d",
   "metadata": {},
   "outputs": [],
   "source": [
    "ph1603relative = PH6[selectedVariable][selectedTimeIndex, selectedDepthIndex, :,:] - phmeanmarch"
   ]
  },
  {
   "cell_type": "code",
   "execution_count": 8,
   "id": "6017d542",
   "metadata": {},
   "outputs": [],
   "source": [
    "selectedDepthIndex = -1\n",
    "bc = pd.read_csv('suitable coral coverage.csv')"
   ]
  },
  {
   "cell_type": "code",
   "execution_count": 9,
   "id": "eea5e07f",
   "metadata": {},
   "outputs": [],
   "source": [
    "pHchange = []\n",
    "i = 0\n",
    "for i in range(8):\n",
    "    site_lat = bc.latitude[int(i)] \n",
    "    site_lon = bc.longitude[int(i)]\n",
    "    lat = ph1603relative['latitude'][:]\n",
    "    lon = ph1603relative['longitude'][:]\n",
    "    selectedLatIndex = find_nearest(lat,site_lat)\n",
    "    sLat = lat[selectedLatIndex]\n",
    "    selectedLonIndex = find_nearest(lon,site_lon)\n",
    "    sLon = lon[selectedLonIndex]\n",
    "    pH = float(ph1603relative.sel(latitude = sLat, longitude = sLon))\n",
    "    pHchange.append(pH)\n",
    "\n"
   ]
  },
  {
   "cell_type": "code",
   "execution_count": 10,
   "id": "3fdb0686",
   "metadata": {},
   "outputs": [],
   "source": [
    "bc['pH_change'] = pHchange\n",
    "# BC = pd.DataFrame(pHchange)\n",
    "# BC.to_csv('bleaching change.csv', mode = 'a', index = None)"
   ]
  },
  {
   "cell_type": "code",
   "execution_count": 14,
   "id": "6540eafc",
   "metadata": {},
   "outputs": [
    {
     "name": "stdout",
     "output_type": "stream",
     "text": [
      "there is absolutely no relationship between them, but it is better to check your data input\n"
     ]
    },
    {
     "data": {
      "text/plain": [
       "-2.5733654791422382"
      ]
     },
     "execution_count": 14,
     "metadata": {},
     "output_type": "execute_result"
    }
   ],
   "source": [
    "gb = bc.groupby('coveragechange')\n",
    "a = gb.pH_change.var()\n",
    "b = bc.pH_change\n",
    "geodetector (a, b)"
   ]
  },
  {
   "cell_type": "code",
   "execution_count": 15,
   "id": "9ca03072",
   "metadata": {},
   "outputs": [
    {
     "name": "stdout",
     "output_type": "stream",
     "text": [
      "the the layout of former factor decided by the latter factors\n"
     ]
    },
    {
     "data": {
      "text/plain": [
       "0.7880794701986755"
      ]
     },
     "execution_count": 15,
     "metadata": {},
     "output_type": "execute_result"
    }
   ],
   "source": [
    "#这是正确的思路\n",
    "\n",
    "gb = bc.groupby('pH_change')\n",
    "a = gb.coveragechange.var()\n",
    "b = bc.coveragechange\n",
    "geodetector (a, b)"
   ]
  },
  {
   "cell_type": "markdown",
   "id": "51e0166e",
   "metadata": {},
   "source": [
    "5.coral coverage and temp"
   ]
  },
  {
   "cell_type": "code",
   "execution_count": 11,
   "id": "9c1bbeac",
   "metadata": {},
   "outputs": [],
   "source": [
    "for item in range(6):\n",
    "    year = \"201\" + str(item+1)\n",
    "    locals()['TMP' + str(item+1)] = xr.open_dataset('tmpchange03'+ year +'.nc')\n",
    "    \n",
    "selectedVariable = 'temp' \n",
    "selectedTimeIndex = 0       \n",
    "selectedDepthIndex = -1     "
   ]
  },
  {
   "cell_type": "code",
   "execution_count": 12,
   "id": "ef5a52ea",
   "metadata": {},
   "outputs": [],
   "source": [
    "tmpmeanmarch = (TMP1[selectedVariable][selectedTimeIndex, selectedDepthIndex, :,:]\n",
    "                +TMP2[selectedVariable][selectedTimeIndex, selectedDepthIndex, :,:]\n",
    "                +TMP3[selectedVariable][selectedTimeIndex, selectedDepthIndex, :,:]\n",
    "                +TMP4[selectedVariable][selectedTimeIndex, selectedDepthIndex, :,:]\n",
    "                +TMP5[selectedVariable][selectedTimeIndex, selectedDepthIndex, :,:]\n",
    "                +TMP6[selectedVariable][selectedTimeIndex, selectedDepthIndex, :,:])/6\n",
    "\n",
    "tmp1603relative = TMP6[selectedVariable][selectedTimeIndex, selectedDepthIndex, :,:] - tmpmeanmarch"
   ]
  },
  {
   "cell_type": "code",
   "execution_count": 13,
   "id": "0f926d64",
   "metadata": {},
   "outputs": [],
   "source": [
    "tempchange = []\n",
    "i = 0\n",
    "for i in range(8):\n",
    "    site_lat = bc.latitude[int(i)] \n",
    "    site_lon = bc.longitude[int(i)]\n",
    "    lat = tmp1603relative['latitude'][:]\n",
    "    lon = tmp1603relative['longitude'][:]\n",
    "    selectedLatIndex = find_nearest(lat,site_lat)\n",
    "    sLat = lat[selectedLatIndex]\n",
    "    selectedLonIndex = find_nearest(lon,site_lon)\n",
    "    sLon = lon[selectedLonIndex]\n",
    "    Tmp = float(tmp1603relative.sel(latitude = sLat, longitude = sLon))\n",
    "    tempchange.append(Tmp)"
   ]
  },
  {
   "cell_type": "code",
   "execution_count": 14,
   "id": "0ea9ab93",
   "metadata": {},
   "outputs": [],
   "source": [
    "bc['temp_change'] = tempchange"
   ]
  },
  {
   "cell_type": "code",
   "execution_count": 15,
   "id": "76d25392",
   "metadata": {},
   "outputs": [
    {
     "name": "stdout",
     "output_type": "stream",
     "text": [
      "there is absolutely no relationship between them, but it is better to check your data input\n"
     ]
    },
    {
     "data": {
      "text/plain": [
       "-2.778499045299532"
      ]
     },
     "execution_count": 15,
     "metadata": {},
     "output_type": "execute_result"
    }
   ],
   "source": [
    "gb2 = bc.groupby('coveragechange')\n",
    "a2 = gb2.temp_change.var()\n",
    "b2 = bc.temp_change\n",
    "geodetector (a2, b2)"
   ]
  },
  {
   "cell_type": "code",
   "execution_count": 16,
   "id": "ebaae329",
   "metadata": {},
   "outputs": [
    {
     "name": "stdout",
     "output_type": "stream",
     "text": [
      "the the layout of former factor decided by the latter factors\n"
     ]
    },
    {
     "data": {
      "text/plain": [
       "0.7880794701986755"
      ]
     },
     "execution_count": 16,
     "metadata": {},
     "output_type": "execute_result"
    }
   ],
   "source": [
    "gb2 = bc.groupby('temp_change')\n",
    "a2 = gb2.coveragechange.var()\n",
    "b2 = bc.coveragechange\n",
    "geodetector (a2, b2)"
   ]
  },
  {
   "cell_type": "markdown",
   "id": "6b933b22",
   "metadata": {},
   "source": [
    "6.coral coverage and salinity"
   ]
  },
  {
   "cell_type": "code",
   "execution_count": 17,
   "id": "6786e38a",
   "metadata": {},
   "outputs": [],
   "source": [
    "for item in range(6):\n",
    "    year = \"201\" + str(item+1)\n",
    "    locals()['Salinity' + str(item+1)] = xr.open_dataset('saltchange03'+ year +'.nc')\n",
    "\n",
    "selectedVariable = 'salt' \n",
    "selectedTimeIndex = 0       \n",
    "selectedDepthIndex = -1     "
   ]
  },
  {
   "cell_type": "code",
   "execution_count": 18,
   "id": "f15971f6",
   "metadata": {},
   "outputs": [],
   "source": [
    "saltmeanmarch = (Salinity1[selectedVariable][selectedTimeIndex, selectedDepthIndex, :,:]\n",
    "                +Salinity2[selectedVariable][selectedTimeIndex, selectedDepthIndex, :,:]\n",
    "                +Salinity3[selectedVariable][selectedTimeIndex, selectedDepthIndex, :,:]\n",
    "                +Salinity4[selectedVariable][selectedTimeIndex, selectedDepthIndex, :,:]\n",
    "                +Salinity5[selectedVariable][selectedTimeIndex, selectedDepthIndex, :,:]\n",
    "                +Salinity6[selectedVariable][selectedTimeIndex, selectedDepthIndex, :,:])/6\n",
    "\n",
    "salt1603relative = Salinity6[selectedVariable][selectedTimeIndex, selectedDepthIndex, :,:] - saltmeanmarch"
   ]
  },
  {
   "cell_type": "code",
   "execution_count": 19,
   "id": "07e2d178",
   "metadata": {},
   "outputs": [],
   "source": [
    "saltchange = []\n",
    "i = 0\n",
    "for i in range(8):\n",
    "    site_lat = bc.latitude[int(i)] \n",
    "    site_lon = bc.longitude[int(i)]\n",
    "    lat = salt1603relative['latitude'][:]\n",
    "    lon = salt1603relative['longitude'][:]\n",
    "    selectedLatIndex = find_nearest(lat,site_lat)\n",
    "    sLat = lat[selectedLatIndex]\n",
    "    selectedLonIndex = find_nearest(lon,site_lon)\n",
    "    sLon = lon[selectedLonIndex]\n",
    "    Salt = float(salt1603relative.sel(latitude = sLat, longitude = sLon))\n",
    "    saltchange.append(Salt)"
   ]
  },
  {
   "cell_type": "code",
   "execution_count": 20,
   "id": "9c5187cc",
   "metadata": {},
   "outputs": [],
   "source": [
    "bc['salt_change'] = saltchange"
   ]
  },
  {
   "cell_type": "code",
   "execution_count": 30,
   "id": "1541bb2a",
   "metadata": {},
   "outputs": [
    {
     "name": "stdout",
     "output_type": "stream",
     "text": [
      "the the layout of former factor slightly decided by the latter factors\n"
     ]
    },
    {
     "data": {
      "text/plain": [
       "0.48133069056210165"
      ]
     },
     "execution_count": 30,
     "metadata": {},
     "output_type": "execute_result"
    }
   ],
   "source": [
    "gb3 = bc3.groupby('coveragechange')\n",
    "a3 = gb3.salt_change.var()\n",
    "b3 = bc3.salt_change\n",
    "geodetector (a3, b3)"
   ]
  },
  {
   "cell_type": "code",
   "execution_count": 32,
   "id": "3b994513",
   "metadata": {},
   "outputs": [
    {
     "name": "stdout",
     "output_type": "stream",
     "text": [
      "the the layout of former factor decided by the latter factors\n"
     ]
    },
    {
     "data": {
      "text/plain": [
       "0.7880794701986755"
      ]
     },
     "execution_count": 32,
     "metadata": {},
     "output_type": "execute_result"
    }
   ],
   "source": [
    "gb3 = bc3.groupby('salt_change')\n",
    "a3 = gb3.coveragechange.var()\n",
    "b3 = bc3.coveragechange\n",
    "geodetector (a3, b3)"
   ]
  },
  {
   "cell_type": "code",
   "execution_count": 22,
   "id": "f43bce6e",
   "metadata": {},
   "outputs": [],
   "source": [
    "bc.to_csv('coveragegeo.csv')"
   ]
  },
  {
   "cell_type": "code",
   "execution_count": null,
   "id": "491c472c",
   "metadata": {},
   "outputs": [],
   "source": []
  },
  {
   "cell_type": "code",
   "execution_count": null,
   "id": "99302119",
   "metadata": {},
   "outputs": [],
   "source": []
  },
  {
   "cell_type": "code",
   "execution_count": null,
   "id": "692c127f",
   "metadata": {},
   "outputs": [],
   "source": []
  },
  {
   "cell_type": "code",
   "execution_count": null,
   "id": "ea9acdf0",
   "metadata": {},
   "outputs": [],
   "source": []
  },
  {
   "cell_type": "code",
   "execution_count": null,
   "id": "b83f5e2c",
   "metadata": {},
   "outputs": [],
   "source": []
  },
  {
   "cell_type": "code",
   "execution_count": null,
   "id": "a1f06b4a",
   "metadata": {},
   "outputs": [],
   "source": []
  }
 ],
 "metadata": {
  "kernelspec": {
   "display_name": "Python 3 (ipykernel)",
   "language": "python",
   "name": "python3"
  },
  "language_info": {
   "codemirror_mode": {
    "name": "ipython",
    "version": 3
   },
   "file_extension": ".py",
   "mimetype": "text/x-python",
   "name": "python",
   "nbconvert_exporter": "python",
   "pygments_lexer": "ipython3",
   "version": "3.10.8"
  }
 },
 "nbformat": 4,
 "nbformat_minor": 5
}
